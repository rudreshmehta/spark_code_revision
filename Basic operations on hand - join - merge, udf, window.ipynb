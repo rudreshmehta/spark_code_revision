{
 "cells": [
  {
   "cell_type": "markdown",
   "metadata": {
    "application/vnd.databricks.v1+cell": {
     "cellMetadata": {},
     "inputWidgets": {},
     "nuid": "a295ac28-fdd8-4e7a-afc8-b718776d9965",
     "showTitle": false,
     "title": ""
    }
   },
   "source": [
    "### Window Functions\n",
    "- Using Window Functions for Aggregations:"
   ]
  },
  {
   "cell_type": "code",
   "execution_count": 0,
   "metadata": {
    "application/vnd.databricks.v1+cell": {
     "cellMetadata": {
      "byteLimit": 2048000,
      "rowLimit": 10000
     },
     "inputWidgets": {},
     "nuid": "2b879101-9d77-4e56-92ef-d466e514f001",
     "showTitle": false,
     "title": ""
    }
   },
   "outputs": [
    {
     "output_type": "stream",
     "name": "stdout",
     "output_type": "stream",
     "text": [
      "+-----+----------+------+----+\n| Name|Department|Salary|rank|\n+-----+----------+------+----+\n|Alice|        HR|  1200|   1|\n|  Bob|        HR|   800|   2|\n|  Bob|     Sales|  1500|   1|\n|Alice|     Sales|  1000|   2|\n+-----+----------+------+----+\n\n"
     ]
    }
   ],
   "source": [
    "from pyspark.sql.window import Window\n",
    "from pyspark.sql.functions import rank, col\n",
    "\n",
    "data = [(\"Alice\", \"Sales\", 1000), (\"Bob\", \"Sales\", 1500), (\"Alice\", \"HR\", 1200), (\"Bob\", \"HR\", 800)]\n",
    "columns = [\"Name\", \"Department\", \"Salary\"]\n",
    "df = spark.createDataFrame(data, columns)\n",
    "\n",
    "windowSpec = Window.partitionBy(\"Department\").orderBy(col(\"Salary\").desc())\n",
    "df = df.withColumn(\"rank\", rank().over(windowSpec))\n",
    "df.show()\n"
   ]
  },
  {
   "cell_type": "markdown",
   "metadata": {
    "application/vnd.databricks.v1+cell": {
     "cellMetadata": {
      "byteLimit": 2048000,
      "rowLimit": 10000
     },
     "inputWidgets": {},
     "nuid": "81b3a9b0-a2ab-437d-a199-a070437286b7",
     "showTitle": false,
     "title": ""
    }
   },
   "source": [
    "### Joining DataFrames\n",
    "- Inner Join:"
   ]
  },
  {
   "cell_type": "code",
   "execution_count": 0,
   "metadata": {
    "application/vnd.databricks.v1+cell": {
     "cellMetadata": {
      "byteLimit": 2048000,
      "rowLimit": 10000
     },
     "inputWidgets": {},
     "nuid": "af6ec646-1f5b-4cf2-92c6-0faaf15f5312",
     "showTitle": false,
     "title": ""
    }
   },
   "outputs": [
    {
     "output_type": "stream",
     "name": "stdout",
     "output_type": "stream",
     "text": [
      "+---+-----+---+----------+\n| ID| Name|Age|Department|\n+---+-----+---+----------+\n|  1|Alice| 22|        HR|\n|  2|  Bob| 25|     Sales|\n|  2|  Bob| 25|    Sales1|\n+---+-----+---+----------+\n\n"
     ]
    }
   ],
   "source": [
    "data1 = [(\"Alice\", 1, 22), (\"Bob\", 2, 25)]\n",
    "columns1 = [\"Name\", \"ID\",\"Age\"]\n",
    "df1 = spark.createDataFrame(data1, columns1)\n",
    "\n",
    "data2 = [(1, \"HR\"), (2, \"Sales\"), (2, \"Sales1\")]\n",
    "columns2 = [\"ID\", \"Department\"]\n",
    "df2 = spark.createDataFrame(data2, columns2)\n",
    "\n",
    "joined_df = df1.join(df2, \"ID\")\n",
    "joined_df.show()\n"
   ]
  },
  {
   "cell_type": "markdown",
   "metadata": {
    "application/vnd.databricks.v1+cell": {
     "cellMetadata": {
      "byteLimit": 2048000,
      "rowLimit": 10000
     },
     "inputWidgets": {},
     "nuid": "7d1afadf-a8f3-4763-9deb-0005bfbf3977",
     "showTitle": false,
     "title": ""
    }
   },
   "source": [
    "### User-Defined Functions (UDFs)\n",
    "- Creating and Using UDFs:"
   ]
  },
  {
   "cell_type": "code",
   "execution_count": 0,
   "metadata": {
    "application/vnd.databricks.v1+cell": {
     "cellMetadata": {
      "byteLimit": 2048000,
      "rowLimit": 10000
     },
     "inputWidgets": {},
     "nuid": "47b8c720-d92c-4965-b2b7-a283a7de80ec",
     "showTitle": false,
     "title": ""
    }
   },
   "outputs": [
    {
     "output_type": "stream",
     "name": "stdout",
     "output_type": "stream",
     "text": [
      "+-----+---+---+---------+\n| Name| ID|Age|Age_Twice|\n+-----+---+---+---------+\n|Alice|  1| 22|       44|\n|  Bob|  2| 25|       50|\n+-----+---+---+---------+\n\n"
     ]
    }
   ],
   "source": [
    "from pyspark.sql.functions import udf\n",
    "from pyspark.sql.types import IntegerType\n",
    "\n",
    "def multiply_by_two(x):\n",
    "    return x * 2\n",
    "\n",
    "data1 = [(\"Alice\", 1, 22), (\"Bob\", 2, 25)]\n",
    "columns1 = [\"Name\", \"ID\",\"Age\"]\n",
    "df1 = spark.createDataFrame(data1, columns1)\n",
    "\n",
    "multiply_by_two_udf = udf(multiply_by_two, IntegerType())\n",
    "df_udf_result = df1.withColumn(\"Age_Twice\", multiply_by_two_udf(col(\"Age\")))\n",
    "df_udf_result.show()\n"
   ]
  },
  {
   "cell_type": "markdown",
   "metadata": {
    "application/vnd.databricks.v1+cell": {
     "cellMetadata": {},
     "inputWidgets": {},
     "nuid": "a64e0ae4-d7c7-49df-a6cf-c04d151fa96f",
     "showTitle": false,
     "title": ""
    }
   },
   "source": [
    "### Joining DataFrames in PySpark"
   ]
  },
  {
   "cell_type": "code",
   "execution_count": 0,
   "metadata": {
    "application/vnd.databricks.v1+cell": {
     "cellMetadata": {
      "byteLimit": 2048000,
      "rowLimit": 10000
     },
     "inputWidgets": {},
     "nuid": "496232e7-3837-4476-82ea-8ec12837674d",
     "showTitle": false,
     "title": ""
    }
   },
   "outputs": [
    {
     "output_type": "display_data",
     "data": {
      "text/html": [
       "<style scoped>\n",
       "  .table-result-container {\n",
       "    max-height: 300px;\n",
       "    overflow: auto;\n",
       "  }\n",
       "  table, th, td {\n",
       "    border: 1px solid black;\n",
       "    border-collapse: collapse;\n",
       "  }\n",
       "  th, td {\n",
       "    padding: 5px;\n",
       "  }\n",
       "  th {\n",
       "    text-align: left;\n",
       "  }\n",
       "</style><div class='table-result-container'><table class='table-result'><thead style='background-color: white'><tr><th>employee_id</th><th>name</th><th>department_id</th><th>salary</th></tr></thead><tbody><tr><td>1</td><td>Alice</td><td>101</td><td>70000</td></tr><tr><td>2</td><td>Bob</td><td>102</td><td>80000</td></tr><tr><td>3</td><td>Charlie</td><td>103</td><td>50000</td></tr><tr><td>4</td><td>David</td><td>101</td><td>60000</td></tr><tr><td>5</td><td>Eve</td><td>104</td><td>90000</td></tr></tbody></table></div>"
      ]
     },
     "metadata": {
      "application/vnd.databricks.v1+output": {
       "addedWidgets": {},
       "aggData": [],
       "aggError": "",
       "aggOverflow": false,
       "aggSchema": [],
       "aggSeriesLimitReached": false,
       "aggType": "",
       "arguments": {},
       "columnCustomDisplayInfos": {},
       "data": [
        [
         1,
         "Alice",
         101,
         70000
        ],
        [
         2,
         "Bob",
         102,
         80000
        ],
        [
         3,
         "Charlie",
         103,
         50000
        ],
        [
         4,
         "David",
         101,
         60000
        ],
        [
         5,
         "Eve",
         104,
         90000
        ]
       ],
       "datasetInfos": [],
       "dbfsResultPath": null,
       "isJsonSchema": true,
       "metadata": {},
       "overflow": false,
       "plotOptions": {
        "customPlotOptions": {},
        "displayType": "table",
        "pivotAggregation": null,
        "pivotColumns": null,
        "xColumns": null,
        "yColumns": null
       },
       "removedWidgets": [],
       "schema": [
        {
         "metadata": "{}",
         "name": "employee_id",
         "type": "\"long\""
        },
        {
         "metadata": "{}",
         "name": "name",
         "type": "\"string\""
        },
        {
         "metadata": "{}",
         "name": "department_id",
         "type": "\"long\""
        },
        {
         "metadata": "{}",
         "name": "salary",
         "type": "\"long\""
        }
       ],
       "type": "table"
      }
     },
     "output_type": "display_data"
    },
    {
     "output_type": "display_data",
     "data": {
      "text/html": [
       "<style scoped>\n",
       "  .table-result-container {\n",
       "    max-height: 300px;\n",
       "    overflow: auto;\n",
       "  }\n",
       "  table, th, td {\n",
       "    border: 1px solid black;\n",
       "    border-collapse: collapse;\n",
       "  }\n",
       "  th, td {\n",
       "    padding: 5px;\n",
       "  }\n",
       "  th {\n",
       "    text-align: left;\n",
       "  }\n",
       "</style><div class='table-result-container'><table class='table-result'><thead style='background-color: white'><tr><th>department_id</th><th>department_name</th><th>location</th></tr></thead><tbody><tr><td>101</td><td>Sales</td><td>New York</td></tr><tr><td>102</td><td>HR</td><td>San Francisco</td></tr><tr><td>103</td><td>IT</td><td>Chicago</td></tr><tr><td>105</td><td>Marketing</td><td>Boston</td></tr></tbody></table></div>"
      ]
     },
     "metadata": {
      "application/vnd.databricks.v1+output": {
       "addedWidgets": {},
       "aggData": [],
       "aggError": "",
       "aggOverflow": false,
       "aggSchema": [],
       "aggSeriesLimitReached": false,
       "aggType": "",
       "arguments": {},
       "columnCustomDisplayInfos": {},
       "data": [
        [
         101,
         "Sales",
         "New York"
        ],
        [
         102,
         "HR",
         "San Francisco"
        ],
        [
         103,
         "IT",
         "Chicago"
        ],
        [
         105,
         "Marketing",
         "Boston"
        ]
       ],
       "datasetInfos": [],
       "dbfsResultPath": null,
       "isJsonSchema": true,
       "metadata": {},
       "overflow": false,
       "plotOptions": {
        "customPlotOptions": {},
        "displayType": "table",
        "pivotAggregation": null,
        "pivotColumns": null,
        "xColumns": null,
        "yColumns": null
       },
       "removedWidgets": [],
       "schema": [
        {
         "metadata": "{}",
         "name": "department_id",
         "type": "\"long\""
        },
        {
         "metadata": "{}",
         "name": "department_name",
         "type": "\"string\""
        },
        {
         "metadata": "{}",
         "name": "location",
         "type": "\"string\""
        }
       ],
       "type": "table"
      }
     },
     "output_type": "display_data"
    }
   ],
   "source": [
    "from pyspark.sql import SparkSession\n",
    "\n",
    "# Initialize Spark Session\n",
    "spark = SparkSession.builder.appName(\"JoiningDataFrames\").getOrCreate()\n",
    "\n",
    "# Sample data for employees DataFrame\n",
    "employees_data = [\n",
    "    (1, \"Alice\", 101, 70000),\n",
    "    (2, \"Bob\", 102, 80000),\n",
    "    (3, \"Charlie\", 103, 50000),\n",
    "    (4, \"David\", 101, 60000),\n",
    "    (5, \"Eve\", 104, 90000)\n",
    "]\n",
    "employees_columns = [\"employee_id\", \"name\", \"department_id\", \"salary\"]\n",
    "employees_df = spark.createDataFrame(employees_data, employees_columns)\n",
    "\n",
    "# Sample data for departments DataFrame\n",
    "departments_data = [\n",
    "    (101, \"Sales\", \"New York\"),\n",
    "    (102, \"HR\", \"San Francisco\"),\n",
    "    (103, \"IT\", \"Chicago\"),\n",
    "    (105, \"Marketing\", \"Boston\")\n",
    "]\n",
    "departments_columns = [\"department_id\", \"department_name\", \"location\"]\n",
    "departments_df = spark.createDataFrame(departments_data, departments_columns)\n",
    "display(employees_df)\n",
    "display(departments_df)\n"
   ]
  },
  {
   "cell_type": "code",
   "execution_count": 0,
   "metadata": {
    "application/vnd.databricks.v1+cell": {
     "cellMetadata": {
      "byteLimit": 2048000,
      "rowLimit": 10000
     },
     "inputWidgets": {},
     "nuid": "8e19a70b-1bc9-4a51-9fed-f31b3b2b8ab6",
     "showTitle": false,
     "title": ""
    }
   },
   "outputs": [
    {
     "output_type": "stream",
     "name": "stdout",
     "output_type": "stream",
     "text": [
      "+-------------+-----------+-------+------+---------------+-------------+\n|department_id|employee_id|   name|salary|department_name|     location|\n+-------------+-----------+-------+------+---------------+-------------+\n|          101|          1|  Alice| 70000|          Sales|     New York|\n|          101|          4|  David| 60000|          Sales|     New York|\n|          102|          2|    Bob| 80000|             HR|San Francisco|\n|          103|          3|Charlie| 50000|             IT|      Chicago|\n+-------------+-----------+-------+------+---------------+-------------+\n\n"
     ]
    }
   ],
   "source": [
    "inner_join_df = employees_df.join(departments_df, on=\"department_id\", how=\"inner\")\n",
    "inner_join_df.show()"
   ]
  },
  {
   "cell_type": "code",
   "execution_count": 0,
   "metadata": {
    "application/vnd.databricks.v1+cell": {
     "cellMetadata": {
      "byteLimit": 2048000,
      "rowLimit": 10000
     },
     "inputWidgets": {},
     "nuid": "b0294a3a-2d9a-4adf-b5bc-6e15aa145b19",
     "showTitle": false,
     "title": ""
    }
   },
   "outputs": [
    {
     "output_type": "stream",
     "name": "stdout",
     "output_type": "stream",
     "text": [
      "+-------------+-----------+-------+------+---------------+-------------+\n|department_id|employee_id|   name|salary|department_name|     location|\n+-------------+-----------+-------+------+---------------+-------------+\n|          101|          1|  Alice| 70000|          Sales|     New York|\n|          102|          2|    Bob| 80000|             HR|San Francisco|\n|          103|          3|Charlie| 50000|             IT|      Chicago|\n|          101|          4|  David| 60000|          Sales|     New York|\n|          104|          5|    Eve| 90000|           null|         null|\n+-------------+-----------+-------+------+---------------+-------------+\n\n"
     ]
    }
   ],
   "source": [
    "left_join_df = employees_df.join(departments_df, on=\"department_id\", how=\"left\")\n",
    "left_join_df.show()"
   ]
  },
  {
   "cell_type": "code",
   "execution_count": 0,
   "metadata": {
    "application/vnd.databricks.v1+cell": {
     "cellMetadata": {
      "byteLimit": 2048000,
      "rowLimit": 10000
     },
     "inputWidgets": {},
     "nuid": "1f19e854-9eb1-4ea6-9881-a34baf96f41d",
     "showTitle": false,
     "title": ""
    }
   },
   "outputs": [
    {
     "output_type": "stream",
     "name": "stdout",
     "output_type": "stream",
     "text": [
      "+-------------+-----------+-------+------+---------------+-------------+\n|department_id|employee_id|   name|salary|department_name|     location|\n+-------------+-----------+-------+------+---------------+-------------+\n|          101|          4|  David| 60000|          Sales|     New York|\n|          101|          1|  Alice| 70000|          Sales|     New York|\n|          102|          2|    Bob| 80000|             HR|San Francisco|\n|          103|          3|Charlie| 50000|             IT|      Chicago|\n|          105|       null|   null|  null|      Marketing|       Boston|\n+-------------+-----------+-------+------+---------------+-------------+\n\n"
     ]
    }
   ],
   "source": [
    "right_join_df = employees_df.join(departments_df, on=\"department_id\", how=\"right\")\n",
    "right_join_df.show()"
   ]
  },
  {
   "cell_type": "code",
   "execution_count": 0,
   "metadata": {
    "application/vnd.databricks.v1+cell": {
     "cellMetadata": {
      "byteLimit": 2048000,
      "rowLimit": 10000
     },
     "inputWidgets": {},
     "nuid": "d16f9dc9-aa40-4cb8-beba-f7222f37ea56",
     "showTitle": false,
     "title": ""
    }
   },
   "outputs": [
    {
     "output_type": "stream",
     "name": "stdout",
     "output_type": "stream",
     "text": [
      "+-------------+-----------+-------+------+---------------+-------------+\n|department_id|employee_id|   name|salary|department_name|     location|\n+-------------+-----------+-------+------+---------------+-------------+\n|          101|          1|  Alice| 70000|          Sales|     New York|\n|          101|          4|  David| 60000|          Sales|     New York|\n|          102|          2|    Bob| 80000|             HR|San Francisco|\n|          103|          3|Charlie| 50000|             IT|      Chicago|\n|          104|          5|    Eve| 90000|           null|         null|\n|          105|       null|   null|  null|      Marketing|       Boston|\n+-------------+-----------+-------+------+---------------+-------------+\n\n"
     ]
    }
   ],
   "source": [
    "full_outer_join_df = employees_df.join(departments_df, on=\"department_id\", how=\"outer\")\n",
    "full_outer_join_df.show()"
   ]
  },
  {
   "cell_type": "markdown",
   "metadata": {
    "application/vnd.databricks.v1+cell": {
     "cellMetadata": {},
     "inputWidgets": {},
     "nuid": "08b97633-06ae-49aa-8db0-2cfdb5742f74",
     "showTitle": false,
     "title": ""
    }
   },
   "source": [
    "### Merging DataFrames Using Delta Lake\n",
    "- Merging in Delta Lake is used to perform **upsert operations**, which means updating existing records and inserting new ones in a Delta table. This is particularly useful for incremental data processing.\n",
    "\n",
    "- Example Scenario: Let's assume we have a transactions Delta table and a DataFrame transactions_updates with new transaction records and updates to existing transactions."
   ]
  },
  {
   "cell_type": "code",
   "execution_count": 0,
   "metadata": {
    "application/vnd.databricks.v1+cell": {
     "cellMetadata": {
      "byteLimit": 2048000,
      "rowLimit": 10000
     },
     "inputWidgets": {},
     "nuid": "17e8c2a1-faf7-4620-99bd-7012600b136a",
     "showTitle": false,
     "title": ""
    }
   },
   "outputs": [
    {
     "output_type": "display_data",
     "data": {
      "text/html": [
       "<style scoped>\n",
       "  .table-result-container {\n",
       "    max-height: 300px;\n",
       "    overflow: auto;\n",
       "  }\n",
       "  table, th, td {\n",
       "    border: 1px solid black;\n",
       "    border-collapse: collapse;\n",
       "  }\n",
       "  th, td {\n",
       "    padding: 5px;\n",
       "  }\n",
       "  th {\n",
       "    text-align: left;\n",
       "  }\n",
       "</style><div class='table-result-container'><table class='table-result'><thead style='background-color: white'><tr><th>transaction_id</th><th>product_id</th><th>amount</th><th>transaction_date</th></tr></thead><tbody><tr><td>1</td><td>101</td><td>50.0</td><td>2024-01-01</td></tr><tr><td>2</td><td>102</td><td>null</td><td>2024-01-02</td></tr><tr><td>3</td><td>103</td><td>200.0</td><td>2024-01-03</td></tr></tbody></table></div>"
      ]
     },
     "metadata": {
      "application/vnd.databricks.v1+output": {
       "addedWidgets": {},
       "aggData": [],
       "aggError": "",
       "aggOverflow": false,
       "aggSchema": [],
       "aggSeriesLimitReached": false,
       "aggType": "",
       "arguments": {},
       "columnCustomDisplayInfos": {},
       "data": [
        [
         1,
         101,
         50.0,
         "2024-01-01"
        ],
        [
         2,
         102,
         null,
         "2024-01-02"
        ],
        [
         3,
         103,
         200.0,
         "2024-01-03"
        ]
       ],
       "datasetInfos": [],
       "dbfsResultPath": null,
       "isJsonSchema": true,
       "metadata": {},
       "overflow": false,
       "plotOptions": {
        "customPlotOptions": {},
        "displayType": "table",
        "pivotAggregation": null,
        "pivotColumns": null,
        "xColumns": null,
        "yColumns": null
       },
       "removedWidgets": [],
       "schema": [
        {
         "metadata": "{}",
         "name": "transaction_id",
         "type": "\"long\""
        },
        {
         "metadata": "{}",
         "name": "product_id",
         "type": "\"long\""
        },
        {
         "metadata": "{}",
         "name": "amount",
         "type": "\"double\""
        },
        {
         "metadata": "{}",
         "name": "transaction_date",
         "type": "\"string\""
        }
       ],
       "type": "table"
      }
     },
     "output_type": "display_data"
    },
    {
     "output_type": "display_data",
     "data": {
      "text/html": [
       "<style scoped>\n",
       "  .table-result-container {\n",
       "    max-height: 300px;\n",
       "    overflow: auto;\n",
       "  }\n",
       "  table, th, td {\n",
       "    border: 1px solid black;\n",
       "    border-collapse: collapse;\n",
       "  }\n",
       "  th, td {\n",
       "    padding: 5px;\n",
       "  }\n",
       "  th {\n",
       "    text-align: left;\n",
       "  }\n",
       "</style><div class='table-result-container'><table class='table-result'><thead style='background-color: white'><tr><th>transaction_id</th><th>product_id</th><th>amount</th><th>transaction_date</th></tr></thead><tbody><tr><td>2</td><td>102</td><td>175.0</td><td>2024-01-02</td></tr><tr><td>4</td><td>104</td><td>125.0</td><td>2024-01-04</td></tr></tbody></table></div>"
      ]
     },
     "metadata": {
      "application/vnd.databricks.v1+output": {
       "addedWidgets": {},
       "aggData": [],
       "aggError": "",
       "aggOverflow": false,
       "aggSchema": [],
       "aggSeriesLimitReached": false,
       "aggType": "",
       "arguments": {},
       "columnCustomDisplayInfos": {},
       "data": [
        [
         2,
         102,
         175.0,
         "2024-01-02"
        ],
        [
         4,
         104,
         125.0,
         "2024-01-04"
        ]
       ],
       "datasetInfos": [],
       "dbfsResultPath": null,
       "isJsonSchema": true,
       "metadata": {},
       "overflow": false,
       "plotOptions": {
        "customPlotOptions": {},
        "displayType": "table",
        "pivotAggregation": null,
        "pivotColumns": null,
        "xColumns": null,
        "yColumns": null
       },
       "removedWidgets": [],
       "schema": [
        {
         "metadata": "{}",
         "name": "transaction_id",
         "type": "\"long\""
        },
        {
         "metadata": "{}",
         "name": "product_id",
         "type": "\"long\""
        },
        {
         "metadata": "{}",
         "name": "amount",
         "type": "\"double\""
        },
        {
         "metadata": "{}",
         "name": "transaction_date",
         "type": "\"string\""
        }
       ],
       "type": "table"
      }
     },
     "output_type": "display_data"
    }
   ],
   "source": [
    "# Sample data for transactions DataFrame\n",
    "transactions_data = [\n",
    "    (1, 101, 50.0, \"2024-01-01\"),\n",
    "    (2, 102, None , \"2024-01-02\"), # use None to put null value in delta table\n",
    "    (3, 103, 200.0, \"2024-01-03\")\n",
    "]\n",
    "transactions_columns = [\"transaction_id\", \"product_id\", \"amount\", \"transaction_date\"]\n",
    "transactions_df = spark.createDataFrame(transactions_data, transactions_columns)\n",
    "\n",
    "# Write to Delta Lake\n",
    "transactions_df.write.format(\"delta\").mode(\"overwrite\").save(\"/dbfs/delta/transactions\")\n",
    "\n",
    "# Sample data for transactions_updates DataFrame\n",
    "transactions_updates_data = [\n",
    "    (2, 102, 175.0, \"2024-01-02\"),  # Update existing transaction\n",
    "    (4, 104, 125.0, \"2024-01-04\")   # New transaction\n",
    "]\n",
    "transactions_updates_columns = [\"transaction_id\", \"product_id\", \"amount\", \"transaction_date\"]\n",
    "transactions_updates_df = spark.createDataFrame(transactions_updates_data, transactions_updates_columns)\n",
    "display(transactions_df)\n",
    "display(transactions_updates_df)"
   ]
  },
  {
   "cell_type": "code",
   "execution_count": 0,
   "metadata": {
    "application/vnd.databricks.v1+cell": {
     "cellMetadata": {
      "byteLimit": 2048000,
      "rowLimit": 10000
     },
     "inputWidgets": {},
     "nuid": "1c1faa36-91fc-4213-a3c9-96ea28285fe2",
     "showTitle": false,
     "title": ""
    }
   },
   "outputs": [
    {
     "output_type": "display_data",
     "data": {
      "text/html": [
       "<style scoped>\n",
       "  .table-result-container {\n",
       "    max-height: 300px;\n",
       "    overflow: auto;\n",
       "  }\n",
       "  table, th, td {\n",
       "    border: 1px solid black;\n",
       "    border-collapse: collapse;\n",
       "  }\n",
       "  th, td {\n",
       "    padding: 5px;\n",
       "  }\n",
       "  th {\n",
       "    text-align: left;\n",
       "  }\n",
       "</style><div class='table-result-container'><table class='table-result'><thead style='background-color: white'><tr><th>format</th><th>id</th><th>name</th><th>description</th><th>location</th><th>createdAt</th><th>lastModified</th><th>partitionColumns</th><th>numFiles</th><th>sizeInBytes</th><th>properties</th><th>minReaderVersion</th><th>minWriterVersion</th><th>tableFeatures</th><th>statistics</th></tr></thead><tbody><tr><td>delta</td><td>1ecfd1b0-f566-4136-9a85-354870f64f56</td><td>null</td><td>null</td><td>dbfs:/dbfs/delta/transactions</td><td>2024-07-17T18:17:54.178+0000</td><td>2024-07-17T22:57:19.000+0000</td><td>List()</td><td>3</td><td>4352</td><td>Map()</td><td>1</td><td>2</td><td>List(appendOnly, invariants)</td><td>Map()</td></tr></tbody></table></div>"
      ]
     },
     "metadata": {
      "application/vnd.databricks.v1+output": {
       "addedWidgets": {},
       "aggData": [],
       "aggError": "",
       "aggOverflow": false,
       "aggSchema": [],
       "aggSeriesLimitReached": false,
       "aggType": "",
       "arguments": {},
       "columnCustomDisplayInfos": {},
       "data": [
        [
         "delta",
         "1ecfd1b0-f566-4136-9a85-354870f64f56",
         null,
         null,
         "dbfs:/dbfs/delta/transactions",
         "2024-07-17T18:17:54.178+0000",
         "2024-07-17T22:57:19.000+0000",
         [],
         3,
         4352,
         {},
         1,
         2,
         [
          "appendOnly",
          "invariants"
         ],
         {}
        ]
       ],
       "datasetInfos": [],
       "dbfsResultPath": null,
       "isJsonSchema": true,
       "metadata": {},
       "overflow": false,
       "plotOptions": {
        "customPlotOptions": {},
        "displayType": "table",
        "pivotAggregation": null,
        "pivotColumns": null,
        "xColumns": null,
        "yColumns": null
       },
       "removedWidgets": [],
       "schema": [
        {
         "metadata": "{}",
         "name": "format",
         "type": "\"string\""
        },
        {
         "metadata": "{}",
         "name": "id",
         "type": "\"string\""
        },
        {
         "metadata": "{}",
         "name": "name",
         "type": "\"string\""
        },
        {
         "metadata": "{}",
         "name": "description",
         "type": "\"string\""
        },
        {
         "metadata": "{}",
         "name": "location",
         "type": "\"string\""
        },
        {
         "metadata": "{}",
         "name": "createdAt",
         "type": "\"timestamp\""
        },
        {
         "metadata": "{}",
         "name": "lastModified",
         "type": "\"timestamp\""
        },
        {
         "metadata": "{}",
         "name": "partitionColumns",
         "type": "{\"type\":\"array\",\"elementType\":\"string\",\"containsNull\":true}"
        },
        {
         "metadata": "{}",
         "name": "numFiles",
         "type": "\"long\""
        },
        {
         "metadata": "{}",
         "name": "sizeInBytes",
         "type": "\"long\""
        },
        {
         "metadata": "{}",
         "name": "properties",
         "type": "{\"type\":\"map\",\"keyType\":\"string\",\"valueType\":\"string\",\"valueContainsNull\":true}"
        },
        {
         "metadata": "{}",
         "name": "minReaderVersion",
         "type": "\"integer\""
        },
        {
         "metadata": "{}",
         "name": "minWriterVersion",
         "type": "\"integer\""
        },
        {
         "metadata": "{}",
         "name": "tableFeatures",
         "type": "{\"type\":\"array\",\"elementType\":\"string\",\"containsNull\":true}"
        },
        {
         "metadata": "{}",
         "name": "statistics",
         "type": "{\"type\":\"map\",\"keyType\":\"string\",\"valueType\":\"long\",\"valueContainsNull\":true}"
        }
       ],
       "type": "table"
      }
     },
     "output_type": "display_data"
    },
    {
     "output_type": "stream",
     "name": "stdout",
     "output_type": "stream",
     "text": [
      "+-----------------------------+-------------------+\n|location                     |lastmodified       |\n+-----------------------------+-------------------+\n|dbfs:/dbfs/delta/transactions|2024-07-17 22:57:19|\n+-----------------------------+-------------------+\n\n+------+------------------------------------+----+-----------+-----------------------------+-----------------------+-------------------+----------------+--------+-----------+----------+----------------+----------------+------------------------+----------+\n|format|id                                  |name|description|location                     |createdAt              |lastModified       |partitionColumns|numFiles|sizeInBytes|properties|minReaderVersion|minWriterVersion|tableFeatures           |statistics|\n+------+------------------------------------+----+-----------+-----------------------------+-----------------------+-------------------+----------------+--------+-----------+----------+----------------+----------------+------------------------+----------+\n|delta |1ecfd1b0-f566-4136-9a85-354870f64f56|null|null       |dbfs:/dbfs/delta/transactions|2024-07-17 18:17:54.178|2024-07-17 22:57:19|[]              |3       |4352       |{}        |1               |2               |[appendOnly, invariants]|{}        |\n+------+------------------------------------+----+-----------+-----------------------------+-----------------------+-------------------+----------------+--------+-----------+----------+----------------+----------------+------------------------+----------+\n\n"
     ]
    }
   ],
   "source": [
    "from delta.tables import DeltaTable\n",
    "\n",
    "# Define the path to the Delta table\n",
    "delta_table_path = \"/dbfs/delta/transactions\"\n",
    "\n",
    "# Load the Delta table using DeltaTable API\n",
    "delta_table = DeltaTable.forPath(spark, delta_table_path)\n",
    "\n",
    "# Get the table details using describeDetail method\n",
    "details_df = delta_table.detail()\n",
    "display(details_df)\n",
    "# Show the details, including location and schema\n",
    "details_df.select([\"location\", \"lastmodified\"]).show(truncate=False)\n",
    "\n",
    "# Print the entire details DataFrame for more information\n",
    "details_df.show(truncate=False)\n"
   ]
  },
  {
   "cell_type": "markdown",
   "metadata": {
    "application/vnd.databricks.v1+cell": {
     "cellMetadata": {},
     "inputWidgets": {},
     "nuid": "833a4847-95fb-4692-acab-7dd2476993fb",
     "showTitle": false,
     "title": ""
    }
   },
   "source": [
    "- Performing Merge (Upsert) Using Delta Lake\n"
   ]
  },
  {
   "cell_type": "code",
   "execution_count": 0,
   "metadata": {
    "application/vnd.databricks.v1+cell": {
     "cellMetadata": {
      "byteLimit": 2048000,
      "rowLimit": 10000
     },
     "inputWidgets": {},
     "nuid": "d7b2cda2-1bc8-4a33-8bff-44844ced3eeb",
     "showTitle": false,
     "title": ""
    }
   },
   "outputs": [
    {
     "output_type": "stream",
     "name": "stdout",
     "output_type": "stream",
     "text": [
      "Old delta table\n+--------------+----------+------+----------------+\n|transaction_id|product_id|amount|transaction_date|\n+--------------+----------+------+----------------+\n|             1|       101|  50.0|      2024-01-01|\n|             3|       103| 200.0|      2024-01-03|\n|             2|       102| 185.0|      2024-01-02|\n|             4|       104| 125.0|      2024-01-04|\n+--------------+----------+------+----------------+\n\nNew delta table\n+--------------+----------+------+----------------+\n|transaction_id|product_id|amount|transaction_date|\n+--------------+----------+------+----------------+\n|             1|       101|  50.0|      2024-01-01|\n|             3|       103| 200.0|      2024-01-03|\n|             2|       102| 360.0|      2024-01-02|\n|             4|       104| 250.0|      2024-01-04|\n+--------------+----------+------+----------------+\n\n"
     ]
    }
   ],
   "source": [
    "from delta.tables import DeltaTable\n",
    "from pyspark.sql.functions import col, when\n",
    "# Load the Delta table\n",
    "delta_table = DeltaTable.forPath(spark, \"/dbfs/delta/transactions\")\n",
    "print(\"Old delta table\")\n",
    "raw_df = spark.read.format(\"delta\").load(\"/dbfs/delta/transactions\")\n",
    "raw_df.show()\n",
    "additional_value = 10\n",
    "# Perform the merge (upsert) operation\n",
    "delta_table.alias(\"tgt\").merge(\n",
    "    transactions_updates_df.alias(\"src\"),\n",
    "    \"tgt.transaction_id = src.transaction_id\"\n",
    ").whenMatchedUpdate(set={\n",
    "    \"tgt.product_id\": \"src.product_id\",\n",
    "    \"tgt.amount\": when(col(\"tgt.amount\").isNull(), col(\"src.amount\") + additional_value)\n",
    "                    .otherwise(col(\"tgt.amount\") + col(\"src.amount\")),\n",
    "    \"tgt.transaction_date\": \"src.transaction_date\"\n",
    "}).whenNotMatchedInsert(values={\n",
    "    \"transaction_id\": \"src.transaction_id\",\n",
    "    \"product_id\": \"src.product_id\",\n",
    "    \"amount\": \"src.amount\",\n",
    "    \"transaction_date\": \"src.transaction_date\"\n",
    "}).execute()\n",
    "\n",
    "print(\"New delta table\")\n",
    "# Show the updated Delta table\n",
    "updated_df = spark.read.format(\"delta\").load(\"/dbfs/delta/transactions\")\n",
    "updated_df.show()\n",
    "\n",
    "# \"tgt.amount\": col(\"tgt.amount\") + col(\"src.amount\"), # way to use the column value as a int\n"
   ]
  },
  {
   "cell_type": "code",
   "execution_count": 0,
   "metadata": {
    "application/vnd.databricks.v1+cell": {
     "cellMetadata": {
      "byteLimit": 2048000,
      "rowLimit": 10000
     },
     "inputWidgets": {},
     "nuid": "81082b63-5608-4816-9546-8b4cbedaa752",
     "showTitle": false,
     "title": ""
    }
   },
   "outputs": [
    {
     "output_type": "display_data",
     "data": {
      "text/html": [
       "<style scoped>\n",
       "  .table-result-container {\n",
       "    max-height: 300px;\n",
       "    overflow: auto;\n",
       "  }\n",
       "  table, th, td {\n",
       "    border: 1px solid black;\n",
       "    border-collapse: collapse;\n",
       "  }\n",
       "  th, td {\n",
       "    padding: 5px;\n",
       "  }\n",
       "  th {\n",
       "    text-align: left;\n",
       "  }\n",
       "</style><div class='table-result-container'><table class='table-result'><thead style='background-color: white'><tr><th>transaction_id</th><th>product_id</th><th>amount</th><th>transaction_date</th></tr></thead><tbody><tr><td>1</td><td>101</td><td>50.0</td><td>2024-01-01</td></tr><tr><td>3</td><td>103</td><td>200.0</td><td>2024-01-03</td></tr><tr><td>2</td><td>102</td><td>360.0</td><td>2024-01-02</td></tr><tr><td>4</td><td>104</td><td>250.0</td><td>2024-01-04</td></tr></tbody></table></div>"
      ]
     },
     "metadata": {
      "application/vnd.databricks.v1+output": {
       "addedWidgets": {},
       "aggData": [],
       "aggError": "",
       "aggOverflow": false,
       "aggSchema": [],
       "aggSeriesLimitReached": false,
       "aggType": "",
       "arguments": {},
       "columnCustomDisplayInfos": {},
       "data": [
        [
         1,
         101,
         50.0,
         "2024-01-01"
        ],
        [
         3,
         103,
         200.0,
         "2024-01-03"
        ],
        [
         2,
         102,
         360.0,
         "2024-01-02"
        ],
        [
         4,
         104,
         250.0,
         "2024-01-04"
        ]
       ],
       "datasetInfos": [],
       "dbfsResultPath": null,
       "isJsonSchema": true,
       "metadata": {},
       "overflow": false,
       "plotOptions": {
        "customPlotOptions": {},
        "displayType": "table",
        "pivotAggregation": null,
        "pivotColumns": null,
        "xColumns": null,
        "yColumns": null
       },
       "removedWidgets": [],
       "schema": [
        {
         "metadata": "{}",
         "name": "transaction_id",
         "type": "\"long\""
        },
        {
         "metadata": "{}",
         "name": "product_id",
         "type": "\"long\""
        },
        {
         "metadata": "{}",
         "name": "amount",
         "type": "\"double\""
        },
        {
         "metadata": "{}",
         "name": "transaction_date",
         "type": "\"string\""
        }
       ],
       "type": "table"
      }
     },
     "output_type": "display_data"
    }
   ],
   "source": [
    "display(updated_df)"
   ]
  }
 ],
 "metadata": {
  "application/vnd.databricks.v1+notebook": {
   "dashboards": [],
   "environmentMetadata": null,
   "language": "python",
   "notebookMetadata": {
    "mostRecentlyExecutedCommandWithImplicitDF": {
     "commandId": -1,
     "dataframes": [
      "_sqldf"
     ]
    },
    "pythonIndentUnit": 4
   },
   "notebookName": "Basic operations on hand - join - merge, udf, window",
   "widgets": {}
  }
 },
 "nbformat": 4,
 "nbformat_minor": 0
}
